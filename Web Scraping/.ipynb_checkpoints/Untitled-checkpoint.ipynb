{
 "cells": [
  {
   "cell_type": "code",
   "execution_count": 1,
   "id": "0bbaf0e4",
   "metadata": {},
   "outputs": [
    {
     "name": "stdout",
     "output_type": "stream",
     "text": [
      "Requirement already satisfied: requests in c:\\users\\pc\\anaconda3\\lib\\site-packages (2.31.0)\n",
      "Requirement already satisfied: beautifulsoup4 in c:\\users\\pc\\anaconda3\\lib\\site-packages (4.12.2)\n",
      "Requirement already satisfied: charset-normalizer<4,>=2 in c:\\users\\pc\\anaconda3\\lib\\site-packages (from requests) (2.0.4)\n",
      "Requirement already satisfied: idna<4,>=2.5 in c:\\users\\pc\\anaconda3\\lib\\site-packages (from requests) (3.4)\n",
      "Requirement already satisfied: urllib3<3,>=1.21.1 in c:\\users\\pc\\anaconda3\\lib\\site-packages (from requests) (1.26.16)\n",
      "Requirement already satisfied: certifi>=2017.4.17 in c:\\users\\pc\\anaconda3\\lib\\site-packages (from requests) (2023.7.22)\n",
      "Requirement already satisfied: soupsieve>1.2 in c:\\users\\pc\\anaconda3\\lib\\site-packages (from beautifulsoup4) (2.4)\n",
      "Note: you may need to restart the kernel to use updated packages.\n"
     ]
    }
   ],
   "source": [
    "pip install requests beautifulsoup4\n"
   ]
  },
  {
   "cell_type": "code",
   "execution_count": 5,
   "id": "1adc10b9",
   "metadata": {},
   "outputs": [
    {
     "name": "stdout",
     "output_type": "stream",
     "text": [
      "Data has been written to agencies.csv\n"
     ]
    }
   ],
   "source": [
    "import requests\n",
    "from bs4 import BeautifulSoup\n",
    "import csv\n",
    "import pandas as pd\n",
    "\n",
    "# URL of the page to scrape\n",
    "url = 'https://www.amenbank.com.tn/fr/reseau-agences.html'\n",
    "\n",
    "# Send a GET request to the page\n",
    "response = requests.get(url)\n",
    "\n",
    "# Check if the request was successful\n",
    "if response.status_code == 200:\n",
    "    # Parse the page content\n",
    "    soup = BeautifulSoup(response.text, 'html.parser')\n",
    "    \n",
    "    # Find all agency blocks\n",
    "    agencies = soup.find_all('div', class_='box_item bg-white mb-3')\n",
    "    \n",
    "    # Prepare a list to hold data\n",
    "    data = []\n",
    "    \n",
    "    for agency in agencies:\n",
    "        # Extract the name\n",
    "        name = agency.find('h6').text.strip()\n",
    "        \n",
    "        # Extract the address, city, phone, and email\n",
    "        p_tags = agency.find_all('p')\n",
    "        \n",
    "        address = p_tags[0].text.strip() if len(p_tags) > 0 else ''\n",
    "        city = p_tags[1].text.strip() if len(p_tags) > 1 else ''\n",
    "        phone = p_tags[2].text.strip() if len(p_tags) > 2 else ''\n",
    "        email = p_tags[3].text.strip() if len(p_tags) > 3 else ''\n",
    "        \n",
    "        # Append data to the list\n",
    "        data.append({\n",
    "            'Name': name,\n",
    "            'Address': address,\n",
    "            'City': city,\n",
    "            'Phone': phone,\n",
    "            'Email': email\n",
    "        })\n",
    "    \n",
    "    # Create a DataFrame from the list\n",
    "    df = pd.DataFrame(data)\n",
    "    \n",
    "    # Save DataFrame to CSV\n",
    "    df.to_csv('agencies.csv', index=False, encoding='utf-8')\n",
    "    \n",
    "    print(\"Data has been written to agencies.csv\")\n",
    "else:\n",
    "    print(\"Failed to retrieve the webpage.\")\n"
   ]
  },
  {
   "cell_type": "code",
   "execution_count": 6,
   "id": "ea36378f",
   "metadata": {},
   "outputs": [
    {
     "data": {
      "text/html": [
       "<div>\n",
       "<style scoped>\n",
       "    .dataframe tbody tr th:only-of-type {\n",
       "        vertical-align: middle;\n",
       "    }\n",
       "\n",
       "    .dataframe tbody tr th {\n",
       "        vertical-align: top;\n",
       "    }\n",
       "\n",
       "    .dataframe thead th {\n",
       "        text-align: right;\n",
       "    }\n",
       "</style>\n",
       "<table border=\"1\" class=\"dataframe\">\n",
       "  <thead>\n",
       "    <tr style=\"text-align: right;\">\n",
       "      <th></th>\n",
       "      <th>Name</th>\n",
       "      <th>Address</th>\n",
       "      <th>City</th>\n",
       "      <th>Phone</th>\n",
       "      <th>Email</th>\n",
       "    </tr>\n",
       "  </thead>\n",
       "  <tbody>\n",
       "    <tr>\n",
       "      <th>0</th>\n",
       "      <td>Centre d'affaires MOHAMED V</td>\n",
       "      <td>Avenue Mohamed V Tunis</td>\n",
       "      <td>Tunis</td>\n",
       "      <td>71 148 051</td>\n",
       "      <td>sami.bettaieb@amenbank.com.tn</td>\n",
       "    </tr>\n",
       "    <tr>\n",
       "      <th>1</th>\n",
       "      <td>KEIREDDINE PACHA</td>\n",
       "      <td>41 av. Kheireddine Pacha Tunis</td>\n",
       "      <td>Tunis</td>\n",
       "      <td>71 906 657</td>\n",
       "      <td>hassene.benmoulahem@amenbank.com.tn</td>\n",
       "    </tr>\n",
       "    <tr>\n",
       "      <th>2</th>\n",
       "      <td>MANDELA</td>\n",
       "      <td>Siège social Amen Bank, Angle Rue de Jordanie ...</td>\n",
       "      <td>Tunis</td>\n",
       "      <td>71 835 500</td>\n",
       "      <td>tarek.ktata@amenbank.com.tn</td>\n",
       "    </tr>\n",
       "    <tr>\n",
       "      <th>3</th>\n",
       "      <td>LAFAYETTE</td>\n",
       "      <td>Angle rue d'Iran &amp; rue Ibn Jazzar Tunis</td>\n",
       "      <td>Tunis</td>\n",
       "      <td>71 783 120</td>\n",
       "      <td>fahmi.ingazou@amenbank.com.tn</td>\n",
       "    </tr>\n",
       "    <tr>\n",
       "      <th>4</th>\n",
       "      <td>MONTPLAISIR</td>\n",
       "      <td>RDC Rue du Japan Monplaisir Complexe</td>\n",
       "      <td>Tunis</td>\n",
       "      <td>71 904 686</td>\n",
       "      <td>mohamedamine.derbal@amenbank.com.tn</td>\n",
       "    </tr>\n",
       "  </tbody>\n",
       "</table>\n",
       "</div>"
      ],
      "text/plain": [
       "                          Name  \\\n",
       "0  Centre d'affaires MOHAMED V   \n",
       "1             KEIREDDINE PACHA   \n",
       "2                      MANDELA   \n",
       "3                    LAFAYETTE   \n",
       "4                  MONTPLAISIR   \n",
       "\n",
       "                                             Address   City       Phone  \\\n",
       "0                             Avenue Mohamed V Tunis  Tunis  71 148 051   \n",
       "1                     41 av. Kheireddine Pacha Tunis  Tunis  71 906 657   \n",
       "2  Siège social Amen Bank, Angle Rue de Jordanie ...  Tunis  71 835 500   \n",
       "3            Angle rue d'Iran & rue Ibn Jazzar Tunis  Tunis  71 783 120   \n",
       "4               RDC Rue du Japan Monplaisir Complexe  Tunis  71 904 686   \n",
       "\n",
       "                                 Email  \n",
       "0        sami.bettaieb@amenbank.com.tn  \n",
       "1  hassene.benmoulahem@amenbank.com.tn  \n",
       "2          tarek.ktata@amenbank.com.tn  \n",
       "3        fahmi.ingazou@amenbank.com.tn  \n",
       "4  mohamedamine.derbal@amenbank.com.tn  "
      ]
     },
     "execution_count": 6,
     "metadata": {},
     "output_type": "execute_result"
    }
   ],
   "source": [
    "import pandas as pd\n",
    "\n",
    "# Read the CSV file into a DataFrame\n",
    "df = pd.read_csv('agencies.csv')\n",
    "\n",
    "# Display the DataFrame\n",
    "df.head()  # Show the first few rows of the DataFrame\n"
   ]
  },
  {
   "cell_type": "code",
   "execution_count": null,
   "id": "3f863e8b",
   "metadata": {},
   "outputs": [],
   "source": []
  }
 ],
 "metadata": {
  "kernelspec": {
   "display_name": "Python 3 (ipykernel)",
   "language": "python",
   "name": "python3"
  },
  "language_info": {
   "codemirror_mode": {
    "name": "ipython",
    "version": 3
   },
   "file_extension": ".py",
   "mimetype": "text/x-python",
   "name": "python",
   "nbconvert_exporter": "python",
   "pygments_lexer": "ipython3",
   "version": "3.11.5"
  }
 },
 "nbformat": 4,
 "nbformat_minor": 5
}
